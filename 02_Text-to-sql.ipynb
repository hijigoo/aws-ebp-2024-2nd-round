{
 "cells": [
  {
   "cell_type": "markdown",
   "metadata": {},
   "source": [
    "# Text to SQL"
   ]
  },
  {
   "cell_type": "markdown",
   "metadata": {},
   "source": [
    "- 이 노트북에서는 LLM을 사용하여 판매 데이터를 분석하기 위한 SQL 쿼리를 생성하는 방법을 보여드립니다.\n",
    "- Boto3 클라이언트를 사용하여 Amazon Bedrock API와 통신하는 방법을 살펴보겠습니다."
   ]
  },
  {
   "cell_type": "markdown",
   "metadata": {
    "vscode": {
     "languageId": "plaintext"
    }
   },
   "source": [
    "## 0. 환경 설정"
   ]
  },
  {
   "cell_type": "code",
   "execution_count": 1,
   "metadata": {},
   "outputs": [
    {
     "name": "stdout",
     "output_type": "stream",
     "text": [
      "Note: you may need to restart the kernel to use updated packages.\n",
      "Note: you may need to restart the kernel to use updated packages.\n"
     ]
    }
   ],
   "source": [
    "# 필요한 라이브러리를 설치합니다.\n",
    "# !pip install -r ./requirements.txt\n",
    "%pip install --quiet boto3\n",
    "%pip install --quiet botocore"
   ]
  },
  {
   "cell_type": "markdown",
   "metadata": {},
   "source": [
    "## 1. 프롬프트를 이용해서 SQL Query 생성하기\n",
    "\n",
    "#### 1-1. Simple Example"
   ]
  },
  {
   "cell_type": "code",
   "execution_count": 2,
   "metadata": {},
   "outputs": [],
   "source": [
    "import boto3\n",
    "import json\n",
    "\n",
    "# Bedrock runtime 생성\n",
    "bedrock_runtime = boto3.client(\n",
    "    service_name=\"bedrock-runtime\"\n",
    ")"
   ]
  },
  {
   "cell_type": "code",
   "execution_count": 3,
   "metadata": {},
   "outputs": [],
   "source": [
    "# SQL query 생성을 위한 프롬프트 작성\n",
    "prompt = \"\"\"\n",
    "AnyCompany has a database with a table named sales_data containing sales records. The table has following columns:\n",
    "- date (YYYY-MM-DD)\n",
    "- product_id\n",
    "- price\n",
    "- units_sold\n",
    "\n",
    "Can you generate SQL queries for the below: \n",
    "- 2023년 총 매출 기준 상위 5개 베스트셀러 제품 파악하기\n",
    "- 2023년 월평균 매출 계산하기\n",
    "\"\"\""
   ]
  },
  {
   "cell_type": "code",
   "execution_count": 4,
   "metadata": {},
   "outputs": [],
   "source": [
    "# 사용할 모델 아이디 작성\n",
    "model_id = \"anthropic.claude-3-sonnet-20240229-v1:0\"\n",
    "\n",
    "# Request body 작성\n",
    "request_data = {\n",
    "    \"anthropic_version\": \"bedrock-2023-05-31\",\n",
    "    \"max_tokens\": 1024,\n",
    "    \"temperature\" : 0,\n",
    "    \"top_k\":250,\n",
    "    \"top_p\":0.5,\n",
    "    \"messages\": [\n",
    "        {\n",
    "            \"role\": \"user\",\n",
    "            \"content\": [\n",
    "                {\"type\": \"text\", \"text\": prompt},\n",
    "            ],\n",
    "        }\n",
    "    ],\n",
    "}\n",
    "request_body = json.dumps(request_data)"
   ]
  },
  {
   "cell_type": "markdown",
   "metadata": {},
   "source": []
  },
  {
   "cell_type": "code",
   "execution_count": 5,
   "metadata": {},
   "outputs": [
    {
     "name": "stdout",
     "output_type": "stream",
     "text": [
      "1. 2023년 총 매출 기준 상위 5개 베스트셀러 제품 파악하기\n",
      "\n",
      "```sql\n",
      "SELECT\n",
      "    product_id,\n",
      "    SUM(price * units_sold) AS total_revenue\n",
      "FROM\n",
      "    sales_data\n",
      "WHERE\n",
      "    date BETWEEN '2023-01-01' AND '2023-12-31'\n",
      "GROUP BY\n",
      "    product_id\n",
      "ORDER BY\n",
      "    total_revenue DESC\n",
      "LIMIT 5;\n",
      "```\n",
      "\n",
      "이 쿼리는 다음과 같이 동작합니다:\n",
      "\n",
      "1. `sales_data` 테이블에서 2023년 1월 1일부터 12월 31일 사이의 레코드를 선택합니다.\n",
      "2. `product_id`별로 그룹화하고, 각 제품의 총 매출(`price * units_sold`의 합계)을 계산합니다.\n",
      "3. 총 매출 기준으로 내림차순 정렬합니다.\n",
      "4. 상위 5개 레코드를 선택합니다.\n",
      "\n",
      "2. 2023년 월평균 매출 계산하기\n",
      "\n",
      "```sql\n",
      "SELECT\n",
      "    MONTH(date) AS month,\n",
      "    ROUND(SUM(price * units_sold) / COUNT(DISTINCT date), 2) AS monthly_avg_revenue\n",
      "FROM\n",
      "    sales_data\n",
      "WHERE\n",
      "    date BETWEEN '2023-01-01' AND '2023-12-31'\n",
      "GROUP BY\n",
      "    MONTH(date)\n",
      "ORDER BY\n",
      "    month;\n",
      "```\n",
      "\n",
      "이 쿼리는 다음과 같이 동작합니다:\n",
      "\n",
      "1. `sales_data` 테이블에서 2023년 1월 1일부터 12월 31일 사이의 레코드를 선택합니다.\n",
      "2. `MONTH(date)`로 월별로 그룹화합니다.\n",
      "3. 각 월의 총 매출(`price * units_sold`의 합계)을 계산하고, 해당 월의 고유한 날짜 수로 나누어 월평균 매출을 계산합니다.\n",
      "4. `ROUND` 함수를 사용하여 월평균 매출을 소수점 이하 2자리까지 반올림합니다.\n",
      "5. 월별로 정렬합니다.\n",
      "\n",
      "이 쿼리는 2023년 각 월의 월평균 매출을 계산하고 출력합니다.\n"
     ]
    }
   ],
   "source": [
    "response = bedrock_runtime.invoke_model(\n",
    "    body=request_body,\n",
    "    modelId=model_id,\n",
    "    contentType=\"application/json\",\n",
    "    accept=\"application/json\"\n",
    ")\n",
    "\n",
    "response_body = json.loads(response['body'].read())\n",
    "answer = response_body['content'][0]['text']\n",
    "print(answer)"
   ]
  },
  {
   "cell_type": "markdown",
   "metadata": {},
   "source": [
    "#### 1-2. Advanced Example"
   ]
  },
  {
   "cell_type": "code",
   "execution_count": 6,
   "metadata": {},
   "outputs": [],
   "source": [
    "# SQL query 생성을 위한 프롬프트 작성\n",
    "prompt_sql = \"\"\"\n",
    "\n",
    "You're provided with a database schema representing any hospital's patient management system.\n",
    "The system holds records about patients, their prescriptions, doctors, and the medications prescribed.\n",
    "\n",
    "Here's the schema:\n",
    "\n",
    "```sql\n",
    "CREATE TABLE Patients (\n",
    "    PatientID int,\n",
    "    FirstName varchar(50),\n",
    "    LastName varchar(50),\n",
    "    DateOfBirth datetime,\n",
    "    Gender varchar(10),\n",
    "    PRIMARY KEY (PatientID)\n",
    ");\n",
    "\n",
    "CREATE TABLE Doctors (\n",
    "    DoctorID int,\n",
    "    FirstName varchar(50),\n",
    "    LastName varchar(50),\n",
    "    Specialization varchar(50),\n",
    "    PRIMARY KEY (DoctorID)\n",
    ");\n",
    "\n",
    "CREATE TABLE Prescriptions (\n",
    "    PrescriptionID int,\n",
    "    PatientID int,\n",
    "    DoctorID int,\n",
    "    DateIssued datetime,\n",
    "    PRIMARY KEY (PrescriptionID)\n",
    ");\n",
    "\n",
    "CREATE TABLE Medications (\n",
    "    MedicationID int,\n",
    "    MedicationName varchar(50),\n",
    "    Dosage varchar(50),\n",
    "    PRIMARY KEY (MedicationID)\n",
    ");\n",
    "\n",
    "CREATE TABLE PrescriptionDetails (\n",
    "    PrescriptionDetailID int,\n",
    "    PrescriptionID int,\n",
    "    MedicationID int,\n",
    "    Quantity int,\n",
    "    PRIMARY KEY (PrescriptionDetailID)\n",
    ");\n",
    "```\n",
    "\n",
    "2023년 4월 1일에 5가지 이상의 서로 다른 약을 처방받은 모든 환자를 가져오는 SQL 쿼리를 작성하세요.\n",
    "\"\"\""
   ]
  },
  {
   "cell_type": "code",
   "execution_count": 7,
   "metadata": {},
   "outputs": [],
   "source": [
    "# 사용할 모델 아이디 작성\n",
    "model_id = \"anthropic.claude-3-sonnet-20240229-v1:0\"\n",
    "\n",
    "# Request body 작성\n",
    "request_data = {\n",
    "    \"anthropic_version\": \"bedrock-2023-05-31\",\n",
    "    \"max_tokens\": 1024,\n",
    "    \"temperature\" : 0,\n",
    "    \"top_k\":250,\n",
    "    \"top_p\":0.5,\n",
    "    \"messages\": [\n",
    "        {\n",
    "            \"role\": \"user\",\n",
    "            \"content\": [\n",
    "                {\"type\": \"text\", \"text\": prompt_sql},\n",
    "            ],\n",
    "        }\n",
    "    ],\n",
    "}\n",
    "request_body = json.dumps(request_data)"
   ]
  },
  {
   "cell_type": "code",
   "execution_count": 8,
   "metadata": {},
   "outputs": [
    {
     "name": "stdout",
     "output_type": "stream",
     "text": [
      "다음 SQL 쿼리를 사용하여 2023년 4월 1일에 5가지 이상의 서로 다른 약을 처방받은 모든 환자를 가져올 수 있습니다.\n",
      "\n",
      "```sql\n",
      "SELECT p.PatientID, p.FirstName, p.LastName\n",
      "FROM Patients p\n",
      "INNER JOIN Prescriptions pr ON p.PatientID = pr.PatientID\n",
      "INNER JOIN PrescriptionDetails pd ON pr.PrescriptionID = pd.PrescriptionID\n",
      "WHERE pr.DateIssued BETWEEN '2023-04-01' AND '2023-04-01 23:59:59.997'\n",
      "GROUP BY p.PatientID, p.FirstName, p.LastName\n",
      "HAVING COUNT(DISTINCT pd.MedicationID) >= 5;\n",
      "```\n",
      "\n",
      "이 쿼리는 다음과 같이 작동합니다:\n",
      "\n",
      "1. `Patients` 테이블과 `Prescriptions` 테이블, `PrescriptionDetails` 테이블을 `INNER JOIN`으로 연결합니다. 이렇게 하면 환자, 처방전 및 처방 세부 정보를 모두 포함하는 결과 집합을 얻을 수 있습니다.\n",
      "\n",
      "2. `WHERE` 절에서 `pr.DateIssued` 열을 사용하여 2023년 4월 1일에 발행된 처방전만 필터링합니다. 날짜 범위를 사용하여 전체 날짜를 포함합니다.\n",
      "\n",
      "3. `GROUP BY` 절에서 `PatientID`, `FirstName`, `LastName`으로 그룹화하여 각 환자별로 처방 세부 정보를 그룹화합니다.\n",
      "\n",
      "4. `HAVING` 절에서 `COUNT(DISTINCT pd.MedicationID)` 함수를 사용하여 각 환자에게 처방된 고유 약물 수를 계산합니다. 그런 다음 이 수가 5 이상인 환자만 필터링합니다.\n",
      "\n",
      "5. `SELECT` 문에서 `PatientID`, `FirstName`, `LastName`을 반환하여 조건을 충족하는 환자의 ID와 이름을 가져옵니다.\n",
      "\n",
      "이 쿼리는 2023년 4월 1일에 5가지 이상의 서로 다른 약을 처방받은 모든 환자의 ID와 이름을 반환합니다.\n"
     ]
    }
   ],
   "source": [
    "response = bedrock_runtime.invoke_model(\n",
    "    body=request_body,\n",
    "    modelId=model_id,\n",
    "    contentType=\"application/json\",\n",
    "    accept=\"application/json\"\n",
    ")\n",
    "\n",
    "response_body = json.loads(response['body'].read())\n",
    "answer = response_body['content'][0]['text']\n",
    "print(answer)"
   ]
  },
  {
   "cell_type": "markdown",
   "metadata": {},
   "source": [
    "## 2. LangChain 과 DB 정보를 이용해서 SQL Query 및 응답 생성하기\n",
    "- 샘플 DB 는 아래 경로에서 확인할 수 있습니다.\n",
    "- https://github.com/lerocha/chinook-database"
   ]
  },
  {
   "cell_type": "markdown",
   "metadata": {},
   "source": [
    "#### 2-1. DB 에 연결해서 정보가져오고 SQL Query 생성하기"
   ]
  },
  {
   "cell_type": "code",
   "execution_count": 9,
   "metadata": {},
   "outputs": [
    {
     "name": "stdout",
     "output_type": "stream",
     "text": [
      "Note: you may need to restart the kernel to use updated packages.\n",
      "Note: you may need to restart the kernel to use updated packages.\n",
      "Note: you may need to restart the kernel to use updated packages.\n"
     ]
    }
   ],
   "source": [
    "%pip install --quiet langchain==0.2.1\n",
    "%pip install --quiet langchain_aws==0.1.6\n",
    "%pip install --quiet langchain_community==0.2.1"
   ]
  },
  {
   "cell_type": "code",
   "execution_count": 10,
   "metadata": {},
   "outputs": [],
   "source": [
    "from langchain_aws import ChatBedrock\n",
    "from langchain_community.utilities import SQLDatabase\n",
    "from langchain_core.messages import HumanMessage\n",
    "from langchain_community.tools import QuerySQLDataBaseTool\n",
    "\n",
    "# DB instance 생성\n",
    "db = SQLDatabase.from_uri(\"sqlite:///db/Chinook.db\")\n",
    "dialect = db.dialect\n",
    "table_info = db.table_info\n",
    "\n",
    "# print(\"# Dialect\")\n",
    "# print(dialect)\n",
    "# print()\n",
    "\n",
    "# print(\"# Table Info\")\n",
    "# print(table_info)"
   ]
  },
  {
   "cell_type": "code",
   "execution_count": 11,
   "metadata": {},
   "outputs": [],
   "source": [
    "# 질문\n",
    "question = \"직원별 총 판매액을 알려줘\"\n",
    "\n",
    "# SQL 생성을 위한 프롬프트 작성\n",
    "prompt_sql = f\"\"\"\n",
    "\n",
    "당신은 {dialect} 전문가입니다.\n",
    "회사의 데이터베이스에 대한 질문을 하는 사용자와 상호 작용하고 있습니다.\n",
    "아래의 데이터베이스 스키마를 기반으로 사용자의 질문에 답할 SQL 쿼리를 작성하세요.\n",
    "\n",
    "데이터베이스 스키마는 다음과 같습니다.\n",
    "<schema>\n",
    "{table_info}\n",
    "</schema>\n",
    "\n",
    "SQL 쿼리만 작성하고 다른 것은 작성하지 마세요.\n",
    "SQL 쿼리를 다른 텍스트로 묶지 마세요. 심지어 backtick 으로도 묶지 마세요.\n",
    "\n",
    "예시:\n",
    "Question: 10명의 고객 이름을 보여주세요.\n",
    "SQL Query: SELECT Name FROM Customers LIMIT 10;\n",
    "\n",
    "Your turn:\n",
    "Question: {question}\n",
    "SQL Query:\n",
    "\"\"\""
   ]
  },
  {
   "cell_type": "code",
   "execution_count": 12,
   "metadata": {},
   "outputs": [
    {
     "name": "stdout",
     "output_type": "stream",
     "text": [
      "SELECT e.FirstName, e.LastName, SUM(i.Total) AS TotalSales\n",
      "FROM Employee e\n",
      "JOIN Customer c ON c.SupportRepId = e.EmployeeId\n",
      "JOIN Invoice i ON i.CustomerId = c.CustomerId\n",
      "GROUP BY e.EmployeeId;\n"
     ]
    }
   ],
   "source": [
    "# 필요한 파라미터 설정\n",
    "model_id = \"anthropic.claude-3-sonnet-20240229-v1:0\"\n",
    "model_kwargs = {\n",
    "    \"max_tokens\": 512,\n",
    "    \"temperature\": 0,\n",
    "    \"top_p\": 0.5,\n",
    "    \"top_k\": 0\n",
    "}\n",
    "\n",
    "# ChatBedrock 생성\n",
    "llm = ChatBedrock(\n",
    "        model_id=model_id,\n",
    "        model_kwargs=model_kwargs\n",
    "    )\n",
    "\n",
    "# 입력\n",
    "messages = [\n",
    "    HumanMessage(\n",
    "        content=prompt_sql\n",
    "    )\n",
    "]\n",
    "\n",
    "# 일반 방식으로 모델 호출\n",
    "response = llm.invoke(messages)\n",
    "sql_query = response.content\n",
    "print(sql_query)"
   ]
  },
  {
   "cell_type": "markdown",
   "metadata": {},
   "source": [
    "#### 2-2. 생성한 SQL 을 이용해서 데이터 가져오기"
   ]
  },
  {
   "cell_type": "code",
   "execution_count": 13,
   "metadata": {},
   "outputs": [
    {
     "name": "stdout",
     "output_type": "stream",
     "text": [
      "[{'FirstName': 'Jane', 'LastName': 'Peacock', 'TotalSales': 833.04},\n",
      " {'FirstName': 'Margaret', 'LastName': 'Park', 'TotalSales': 775.4},\n",
      " {'FirstName': 'Steve', 'LastName': 'Johnson', 'TotalSales': 720.16}]\n",
      "[('Jane', 'Peacock', 833.04), ('Margaret', 'Park', 775.4), ('Steve', 'Johnson', 720.16)]\n"
     ]
    }
   ],
   "source": [
    "from pprint import pprint\n",
    "\n",
    "# DB 를 호출해서 가져오기\n",
    "sql_result = db.run(sql_query, fetch=\"cursor\")\n",
    "sql_result_list = list(sql_result.mappings())\n",
    "pprint(sql_result_list)\n",
    "\n",
    "# DB 를 호출해서 가져오기 : langchain 에서 chain 생성을 위해 사용\n",
    "execute_query = QuerySQLDataBaseTool(db=db)\n",
    "sql_result_text = execute_query.invoke(sql_query)\n",
    "print(sql_result_text)"
   ]
  },
  {
   "cell_type": "markdown",
   "metadata": {},
   "source": [
    "#### 2-3 가져온 데이터 Table 로 보여주기"
   ]
  },
  {
   "cell_type": "code",
   "execution_count": 14,
   "metadata": {},
   "outputs": [
    {
     "name": "stdout",
     "output_type": "stream",
     "text": [
      "Note: you may need to restart the kernel to use updated packages.\n",
      "Note: you may need to restart the kernel to use updated packages.\n"
     ]
    }
   ],
   "source": [
    "%pip install --quiet pandas\n",
    "%pip install --quiet matplotlib"
   ]
  },
  {
   "cell_type": "markdown",
   "metadata": {},
   "source": []
  },
  {
   "cell_type": "code",
   "execution_count": 15,
   "metadata": {},
   "outputs": [
    {
     "name": "stdout",
     "output_type": "stream",
     "text": [
      "  FirstName LastName  TotalSales\n",
      "0      Jane  Peacock      833.04\n",
      "1  Margaret     Park      775.40\n",
      "2     Steve  Johnson      720.16\n"
     ]
    },
    {
     "data": {
      "image/png": "[encoded data removed]",
      "text/plain": [
       "<Figure size 640x480 with 1 Axes>"
      ]
     },
     "metadata": {},
     "output_type": "display_data"
    }
   ],
   "source": [
    "import pandas as pd\n",
    "import matplotlib.pyplot as plt\n",
    "\n",
    "# 데이터프레임 생성\n",
    "result_df = pd.DataFrame(sql_result_list, columns=['FirstName', 'LastName', 'TotalSales'])\n",
    "print(result_df)\n",
    "\n",
    "# 그래프 출력\n",
    "# 이름과 판매량 추출\n",
    "names = [f\"{d['FirstName']} {d['LastName']}\" for d in sql_result_list]\n",
    "sales = [d['TotalSales'] for d in sql_result_list]\n",
    "\n",
    "# 바차트 그리기\n",
    "plt.bar(names, sales)\n",
    "plt.xlabel('Name')\n",
    "plt.ylabel('Total Sales')\n",
    "plt.title('Employee total sales')\n",
    "plt.show()"
   ]
  },
  {
   "cell_type": "markdown",
   "metadata": {},
   "source": [
    "#### 2-4 가져온 데이터로 응답 생성하기"
   ]
  },
  {
   "cell_type": "code",
   "execution_count": 22,
   "metadata": {},
   "outputs": [
    {
     "name": "stdout",
     "output_type": "stream",
     "text": [
      "직원별 총 판매액은 다음과 같습니다:\n",
      "\n",
      "- Jane Peacock 직원의 총 판매액은 833.04달러입니다.\n",
      "- Margaret Park 직원의 총 판매액은 775.4달러입니다. \n",
      "- Steve Johnson 직원의 총 판매액은 720.16달러입니다.\n"
     ]
    }
   ],
   "source": [
    "# LLM 을 호출해서 자연어 응답 생성하기\n",
    "answer_prompt = f\"\"\"\n",
    "주어진 사용자의 질문(question) 에 대해서 SQL Query 및 SQL Result 를 참고해서 답변해주세요.\n",
    "SQL Query 와 SQL Result 에 대한 설명은 하지 말고 SQL Result 에 대한 내용만 설명해주세요.\n",
    "최종 답변은 읽기 편하게 정리해서 보여줘.\n",
    "\n",
    "Question: {question}\n",
    "SQL Query: {sql_query}\n",
    "SQL Result: {sql_result_text}\n",
    "\"\"\"\n",
    "\n",
    "messages = [\n",
    "    HumanMessage(\n",
    "        content=answer_prompt\n",
    "    )\n",
    "]\n",
    "\n",
    "response = llm.invoke(messages)\n",
    "sql_query = response.content\n",
    "print(sql_query)"
   ]
  },
  {
   "cell_type": "code",
   "execution_count": null,
   "metadata": {},
   "outputs": [],
   "source": []
  }
 ],
 "metadata": {
  "kernelspec": {
   "display_name": ".venv",
   "language": "python",
   "name": "python3"
  },
  "language_info": {
   "codemirror_mode": {
    "name": "ipython",
    "version": 3
   },
   "file_extension": ".py",
   "mimetype": "text/x-python",
   "name": "python",
   "nbconvert_exporter": "python",
   "pygments_lexer": "ipython3",
   "version": "3.9.6"
  }
 },
 "nbformat": 4,
 "nbformat_minor": 2
}
